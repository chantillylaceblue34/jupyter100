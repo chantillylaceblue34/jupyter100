{
 "cells": [
  {
   "cell_type": "markdown",
   "metadata": {},
   "source": [
    "# Intro To Jupyter Notebooks - Training Exercises"
   ]
  },
  {
   "cell_type": "markdown",
   "metadata": {},
   "source": [
    "# Pre-Requisites"
   ]
  },
  {
   "cell_type": "markdown",
   "metadata": {},
   "source": [
    "<p>In order to participate in this training please ensure you have the following:</p>\n",
    "    <ul>\n",
    "    <li>Install Anaconda  - Anaconda conveniently installs Python, the Jupyter Notebook, and other commonly used packages for scientific computing and data science.<a href=\"https://www.continuum.io/downloads\">Click Here to Download</a></li>\n",
    "    <li>Create a local directory called \"Jupyter101\"</li>\n",
    "    <li>Open Jupyter Notebook via Command line in direcotry \"Jupyter 101\"</li>\n",
    "    <li>Download files from Github \"Jupyter Inro Exercises\"</li>\n",
    "    </ul>"
   ]
  },
  {
   "cell_type": "markdown",
   "metadata": {},
   "source": [
    "# Exercise 1: Gettting Started With Hello World"
   ]
  },
  {
   "cell_type": "markdown",
   "metadata": {},
   "source": [
    "In the following exercise we will teach you how to:\n",
    "    \n",
    "<ul>\n",
    "<li>Create your first notebook</li>\n",
    "<li>Basic cell maniupulation ie. cut, paste</li>\n",
    "<li>Execute code in jupyter notebooks</li>\n",
    "<li>Start and stop your kernel</li>\n",
    "<li>Document your code</li>\n",
    "<li>Save your notebook</li>\n",
    "<li>Share your notebook</li>\n",
    "</ul>"
   ]
  },
  {
   "cell_type": "markdown",
   "metadata": {},
   "source": [
    "<h3> Step 1. Create your first notebook</h3>"
   ]
  },
  {
   "cell_type": "markdown",
   "metadata": {},
   "source": [
    "You can create a new notebook via 3 different methods\n",
    "\n",
    "<ol>\n",
    "<li><b>Via Dashboard</b></li>\n",
    "<li><b>Via Command Line</b> - Type the following in a command line <i>Jupyter notebook my_notebook.ipynb</i> a new notebook will be created in the same directory and will be opened in a seperate tab.</li>\n",
    "<li><b>Via main menu</b> click on file \"New Notebook\"</li></ol>"
   ]
  },
  {
   "cell_type": "markdown",
   "metadata": {},
   "source": [
    "<h3>Step 2. Create cell to execute code</h3>"
   ]
  },
  {
   "cell_type": "markdown",
   "metadata": {},
   "source": [
    "Click on the INSERT link from the main menu bar and select INSERT CELL ABOVE or INSERT CELL BELOW.\n",
    "\n",
    "Type the follow line of code in the cell below.  <br/><br/>\n",
    "\n",
    "<div style=\"background-color:#e6f3f7; border:1px black solid; width:600px; padding:10px;\">\n",
    "\n",
    "  print(\"Hello World\").<br/></div>\n"
   ]
  },
  {
   "cell_type": "markdown",
   "metadata": {},
   "source": [
    "Perform basic mathematics in the cell below. \n",
    "\n",
    "<div style=\"background-color:#e6f3f7; border:1px black solid; width:600px; padding:10px;\">\n",
    "print(2+8)<br/>\n",
    "print(89/9)<br/>\n",
    "print(300/10)<br/>\n",
    "</div>"
   ]
  },
  {
   "cell_type": "markdown",
   "metadata": {},
   "source": [
    "Please see my code below. The code will execute an arithmitec funciton."
   ]
  },
  {
   "cell_type": "markdown",
   "metadata": {},
   "source": [
    "<h3>Step 3. Create a  Rich Text cell to describe your code.</h3>\n",
    "\n",
    "<p>Click on your new Math Opertor cell.  Then click on INSERT in the main menu bar and then from the drop down list select \"Insert Cell Above\".  This will create another cell above the cell which was previously selected.</p>\n"
   ]
  },
  {
   "cell_type": "markdown",
   "metadata": {},
   "source": [
    "<h3>Step 4. Select the type of cell you would like it to be</h3>\n",
    "<p>Now you can specify the type of cell you would like it to be by selecting the cell type from the tool dropdown list.  Select the \"Markdown\" option in order to begin to document your code.</p><p>Markdown is a popular markup language that is a superset of HTML.</p>\n",
    "<h3>Step 5. Type the following sentence in the cell</h3>\n",
    "<p><i>Please see my code below.  The code will execute an arithmitec funciton.</i>  Then click on the RUN CELL and Select Below button.<p/>\n",
    "<p>For more information on MarkDown and other the types of documentation you can create <a href=\"http://nbviewer.jupyter.org/github/ipython/ipython/blob/3.x/examples/Notebook/Working%20With%20Markdown%20Cells.ipynb\">click here</a> </p>\n",
    "\n",
    "\n",
    "<h3>Step 6. Type a mathematical equation in the cell</h3>\n",
    "<p>Jupyter Notebooks uses <a href=\"https://www.mathjax.org/\">MathJax</a> library to render LaTex inside a cell.</p>\n",
    "$$c = \\sqrt{a^3 + b^3}$$\n",
    "\n",
    "\n",
    "\n",
    "<h3>Step 7. Insert HTML in a cell</h3>\n",
    "\n",
    "<p>Since Markdown is a superset of HTML you can insert HTML into cells to create links and styled elements like tables and divs.</p>\n",
    "<br/><br/>\n",
    "<br/>\n",
    "<div width=\"300px\" style=\"border:green 1px solid;\"><p> I am an HTML  DIV with a link <a style=\"color:red;\" href=\"\">Click on me</a> </p></div>\n",
    "\n",
    "\n",
    "\n"
   ]
  },
  {
   "cell_type": "code",
   "execution_count": null,
   "metadata": {
    "collapsed": false
   },
   "outputs": [],
   "source": [
    "from IPython.display import YouTubeVideo\n",
    "# random cute dog video from youtube\n",
    "YouTubeVideo('ALqFFeU-Wp8')"
   ]
  },
  {
   "cell_type": "markdown",
   "metadata": {},
   "source": [
    "<h3>Step 8. Insert an Image</h3>\n",
    "\n",
    "\n"
   ]
  },
  {
   "cell_type": "code",
   "execution_count": null,
   "metadata": {
    "collapsed": true
   },
   "outputs": [],
   "source": [
    "from IPython.display import Image\n",
    "\n",
    "SoftLinked = Image(url='https://s-media-cache-ak0.pinimg.com/originals/ce/96/54/ce9654dc919cab916f04a85aa9a6332f.jpg')\n"
   ]
  },
  {
   "cell_type": "markdown",
   "metadata": {},
   "source": [
    "<h3>Step 9. Kernel - Stop and start</h3>"
   ]
  },
  {
   "cell_type": "markdown",
   "metadata": {},
   "source": [
    "What is a Kernel "
   ]
  },
  {
   "cell_type": "markdown",
   "metadata": {},
   "source": [
    "<h3> Step 10. Saving Your Notebook</h3>\n",
    "<p>To save your notebook click on the FILE option in the main menu and select \"Save and Checkpoint\".  This will save your notebook and also create a checkpoint.  </p>\n"
   ]
  },
  {
   "cell_type": "markdown",
   "metadata": {},
   "source": [
    "<h3>Step 11. Sharing your Notebook</h3>"
   ]
  },
  {
   "cell_type": "markdown",
   "metadata": {},
   "source": [
    "# Exercise 2: Import Data From CSV File"
   ]
  },
  {
   "cell_type": "markdown",
   "metadata": {},
   "source": [
    "In this exercise we will show you how to:\n",
    "    \n",
    "<ul>\n",
    "<li>Import data from a csv file</li>\n",
    "<li>Query the data</li>\n",
    "<li>Preform basic data processing exercises</li>\n",
    "</ul>\n",
    "<h3>Step 1. Import data form a csv file.</h3>\n",
    "<p>Type the following code into the cell below to import a csv file.</p>\n",
    "<br/>\n",
    "<div style=\"background-color:#e6f3f7; border:1px black solid; width:600px; padding:10px;\">\n",
    "import csv<br/>\n",
    "canines = open('Dogs.csv')<br/>\n",
    "csv_canines = csv.reader(canines)<br/>\n",
    "for row in csv_canines:<br/>\n",
    "    print (row[0])<br/></div>"
   ]
  },
  {
   "cell_type": "code",
   "execution_count": null,
   "metadata": {
    "collapsed": false
   },
   "outputs": [],
   "source": [
    "import csv\n",
    "canines = open('Dogs.csv')\n",
    "csv_canines = csv.reader(canines)\n",
    "for row in csv_canines:\n",
    "    print (row[0])"
   ]
  },
  {
   "cell_type": "markdown",
   "metadata": {
    "collapsed": true
   },
   "source": [
    "<h3>Step 2. Count the number of rows in your csv file.</h3>\n",
    "\n",
    "<p>Count the number of rows in the csv file by typeing the following in the cell below.</p>\n",
    "\n",
    "<br/>\n",
    "<div style=\"background-color:#e6f3f7; border:1px black solid; width:600px; padding:10px;\">\n",
    "with open('Dogs.csv', encoding='utf8') as csvfile:<br/>\n",
    "    readCSV = csv.reader(csvfile, delimiter=',')<br/>\n",
    "    count = 0<br/>\n",
    "    for row in readCSV:<br/>\n",
    "        count = count + 1<br/>\n",
    "        \n",
    "    print(\"count: %i\" %count) <br/>\n",
    "</div>\n"
   ]
  },
  {
   "cell_type": "code",
   "execution_count": null,
   "metadata": {
    "collapsed": false
   },
   "outputs": [],
   "source": [
    "with open('Dogs.csv', encoding='utf8') as csvfile:\n",
    "    readCSV = csv.reader(csvfile, delimiter=',')\n",
    "    count = 0\n",
    "    for row in readCSV:\n",
    "        count = count + 1\n",
    "        \n",
    "    print(\"row count: %i\" %count) "
   ]
  },
  {
   "cell_type": "markdown",
   "metadata": {},
   "source": [
    "<h3>Step 3. Query your csv file</h3>\n",
    "\n",
    "<p>Let's query the csv file for number of dogs that are small.</p>\n",
    "\n",
    "<p>To start we are going to use IPythons predefined magic functions.  These funcitons can be called in command line syntax. %load or %paste.  For more information on Magic functions <a href=\"https://ipython.org/ipython-doc/3/interactive/tutorial.html\">click here</a></p>\n",
    "\n",
    "<br/>\n",
    "<div style=\"background-color:#e6f3f7; border:1px black solid; width:600px; padding:10px;\">\n",
    "\n",
    "</div>\n"
   ]
  },
  {
   "cell_type": "code",
   "execution_count": null,
   "metadata": {
    "collapsed": false
   },
   "outputs": [],
   "source": [
    "%load_ext sql"
   ]
  },
  {
   "cell_type": "code",
   "execution_count": null,
   "metadata": {
    "collapsed": false
   },
   "outputs": [],
   "source": [
    "import pandas as pd\n",
    "pd.set_option('display.matplotlib.pyplot.style.use', 'default') #make graphs pretty\n",
    "figsize(15,5)\n"
   ]
  },
  {
   "cell_type": "markdown",
   "metadata": {},
   "source": [
    "<h3>Step 3.  Import Math Library</h3>"
   ]
  },
  {
   "cell_type": "markdown",
   "metadata": {},
   "source": [
    "# Exercise 3: Import Machine Learning Library"
   ]
  },
  {
   "cell_type": "code",
   "execution_count": null,
   "metadata": {
    "collapsed": true
   },
   "outputs": [],
   "source": [
    "random forest or other library"
   ]
  }
 ],
 "metadata": {
  "anaconda-cloud": {},
  "kernelspec": {
   "display_name": "Python [Root]",
   "language": "python",
   "name": "Python [Root]"
  },
  "language_info": {
   "codemirror_mode": {
    "name": "ipython",
    "version": 3
   },
   "file_extension": ".py",
   "mimetype": "text/x-python",
   "name": "python",
   "nbconvert_exporter": "python",
   "pygments_lexer": "ipython3",
   "version": "3.5.2"
  }
 },
 "nbformat": 4,
 "nbformat_minor": 0
}
